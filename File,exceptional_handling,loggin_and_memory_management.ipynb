{
  "nbformat": 4,
  "nbformat_minor": 0,
  "metadata": {
    "colab": {
      "private_outputs": true,
      "provenance": []
    },
    "kernelspec": {
      "name": "python3",
      "display_name": "Python 3"
    },
    "language_info": {
      "name": "python"
    }
  },
  "cells": [
    {
      "cell_type": "markdown",
      "source": [
        "#File , exceptional handling , loggin and memory management question\n"
      ],
      "metadata": {
        "id": "VOpBw9NP2BZI"
      }
    },
    {
      "cell_type": "markdown",
      "source": [
        "#1.what is the difference between interpreted and complied language?"
      ],
      "metadata": {
        "id": "eP4uap7c2Ru2"
      }
    },
    {
      "cell_type": "markdown",
      "source": [
        "#Ans:- Compiled Language:\n",
        "\n",
        "In a compiled language, the source code is converted into machine code beforehand, using a compiler. This machine code can be executed directly by the computer's processor.\n",
        "\n",
        "Here's the process:\n",
        "\n",
        "1. Source code is written in a high-level language (e.g., C, C++).\n",
        "2. The compiler translates the source code into machine code (e.g., binary code).\n",
        "3. The machine code is stored in an executable file.\n",
        "4. The executable file is run directly by the computer's processor.\n",
        "\n",
        "Examples of compiled languages include C, C++, and Fortran.\n",
        "\n",
        "Interpreted Language:\n",
        "\n",
        "In an interpreted language, the source code is not compiled into machine code beforehand. Instead, an interpreter translates the source code into machine code line by line, at runtime.\n",
        "\n",
        "Here's the process:\n",
        "\n",
        "1. Source code is written in a high-level language (e.g., Python, JavaScript).\n",
        "2. The interpreter reads the source code line by line.\n",
        "3. For each line, the interpreter translates the code into machine code.\n",
        "4. The machine code is executed immediately by the computer's processor.\n",
        "\n"
      ],
      "metadata": {
        "id": "8JuE4XO62jZd"
      }
    },
    {
      "cell_type": "markdown",
      "source": [
        "#2. What is exception handling in python?"
      ],
      "metadata": {
        "id": "G1xagsl-3M7e"
      }
    },
    {
      "cell_type": "markdown",
      "source": [
        "#Ans:- Exception handling in Python is a mechanism to handle runtime errors or unexpected conditions that occur during the execution of a program. It allows you to anticipate and manage errors in a way that prevents your program from crashing or producing unexpected results.\n",
        "\n",
        "In Python, exceptions are raised when an error occurs, and you can use the try-except block to catch and handle these exceptions.\n"
      ],
      "metadata": {
        "id": "tAhwuoI03gZl"
      }
    },
    {
      "cell_type": "code",
      "execution_count": null,
      "metadata": {
        "id": "zKWc5X4w1ttw"
      },
      "outputs": [],
      "source": [
        "try:\n",
        "    x = 5 / 0\n",
        "except ZeroDivisionError:\n",
        "    print(\"Error: Cannot divide by zero!\")"
      ]
    },
    {
      "cell_type": "markdown",
      "source": [
        "#3. What is the purpose of the finally block in exception handling?"
      ],
      "metadata": {
        "id": "Qq6CyjlK32bt"
      }
    },
    {
      "cell_type": "markdown",
      "source": [
        "#Ans:- The finally block in exception handling is used to specify a block of code that will be executed regardless of whether an exception occurred or not. The purpose of the finally block is to:\n",
        "\n",
        "1. Release resources: Close files, database connections, network sockets, or other resources that were opened in the try block.\n",
        "2. Perform cleanup: Delete temporary files, release memory, or perform other cleanup tasks.\n",
        "3. Restore state: Restore the state of the program to its original state before the try block was executed.\n",
        "4. Log exceptions: Log exceptions that occurred in the try block.\n",
        "\n",
        "The finally block is executed after the try and except blocks, regardless of whether an exception occurred or not. If an exception occurs in the try block, the except block will handle it, and then the finally block will be executed. If no exception occurs, the finally block will still be executed.\n",
        "\n"
      ],
      "metadata": {
        "id": "_5JLLKbv4Hvo"
      }
    },
    {
      "cell_type": "code",
      "source": [
        "try:\n",
        "    # Open a file\n",
        "    file = open(\"example.txt\", \"r\")\n",
        "    # Read from the file\n",
        "    data = file.read()\n",
        "except FileNotFoundError:\n",
        "    print(\"File not found!\")\n",
        "finally:\n",
        "    # Close the file\n",
        "    if 'file' in locals():\n",
        "        file.close()"
      ],
      "metadata": {
        "id": "6_qSRy6f3y1I"
      },
      "execution_count": null,
      "outputs": []
    },
    {
      "cell_type": "markdown",
      "source": [
        "#4. What is logging in python?"
      ],
      "metadata": {
        "id": "9_3lgZ6B4PE3"
      }
    },
    {
      "cell_type": "markdown",
      "source": [
        "#Ans:- he Python logging module provides a flexible and customizable logging system that allows you to:\n",
        "\n",
        "1. Record events: Log events at different levels, such as debug, info, warning, error, and critical.\n",
        "2. Configure logging: Customize the logging behavior, including the log level, log format, and log destination.\n",
        "3. Handle errors: Catch and log exceptions, allowing you to diagnose and fix errors.\n",
        "\n",
        "The logging module provides several benefits, including:\n",
        "\n",
        "1. Improved debugging: Logging helps you identify and diagnose issues in your code.\n",
        "2. Error tracking: Logging allows you to track and monitor errors, making it easier to fix issues.\n",
        "3. Auditing: Logging provides a record of important events, making it easier to audit and track changes.\n",
        "\n"
      ],
      "metadata": {
        "id": "SDw9CdWU4g4t"
      }
    },
    {
      "cell_type": "code",
      "source": [
        "import logging\n",
        "\n",
        "# Create a logger object\n",
        "logger = logging.getLogger(__name__)"
      ],
      "metadata": {
        "id": "k115-twk5LZa"
      },
      "execution_count": null,
      "outputs": []
    },
    {
      "cell_type": "code",
      "source": [
        "# Set the log level\n",
        "logger.setLevel(logging.INFO)"
      ],
      "metadata": {
        "id": "Spsi31yf4n4_"
      },
      "execution_count": null,
      "outputs": []
    },
    {
      "cell_type": "code",
      "source": [
        "# Create a file handler\n",
        "file_handler = logging.FileHandler(\"log_file.log\")\n",
        "file_handler.setLevel(logging.INFO)"
      ],
      "metadata": {
        "id": "B4pwl7Pj5lii"
      },
      "execution_count": null,
      "outputs": []
    },
    {
      "cell_type": "code",
      "source": [
        "# Create a console handler\n",
        "console_handler = logging.StreamHandler()\n",
        "console_handler.setLevel(logging.INFO)"
      ],
      "metadata": {
        "id": "26DDLlXR5otM"
      },
      "execution_count": null,
      "outputs": []
    },
    {
      "cell_type": "code",
      "source": [
        "# Create a formatter\n",
        "formatter = logging.Formatter(\"%(asctime)s - %(name)s - %(levelname)s - %(message)s\")"
      ],
      "metadata": {
        "id": "BFX3CrCw5sDN"
      },
      "execution_count": null,
      "outputs": []
    },
    {
      "cell_type": "code",
      "source": [
        "# Add the formatter to the handlers\n",
        "file_handler.setFormatter(formatter)\n",
        "console_handler.setFormatter(formatter)"
      ],
      "metadata": {
        "id": "JkJF1y9i5u-d"
      },
      "execution_count": null,
      "outputs": []
    },
    {
      "cell_type": "code",
      "source": [
        "# Add the handlers to the logger\n",
        "logger.addHandler(file_handler)\n",
        "logger.addHandler(console_handler)"
      ],
      "metadata": {
        "id": "IXQ7L1Ns5zCd"
      },
      "execution_count": null,
      "outputs": []
    },
    {
      "cell_type": "code",
      "source": [
        "# Log a message\n",
        "logger.info(\"This is an info message\")"
      ],
      "metadata": {
        "id": "8lSrqY0U51_V"
      },
      "execution_count": null,
      "outputs": []
    },
    {
      "cell_type": "markdown",
      "source": [
        "#5. What is the significance of the__del__method in python?"
      ],
      "metadata": {
        "id": "3Sadcor655YH"
      }
    },
    {
      "cell_type": "markdown",
      "source": [
        "#Ans:- The __del__ method is significant for several reasons:\n",
        "\n",
        "1. Resource cleanup: The __del__ method is used to clean up resources that an object has allocated, such as file handles, network connections, or database connections.\n",
        "2. Memory deallocation: The __del__ method is called when an object is about to be deallocated from memory. This allows the object to perform any necessary cleanup before its memory is released.\n",
        "3. Custom cleanup: The __del__ method can be used to perform custom cleanup actions that are specific to an object's class or instance.\n",
        "4. Debugging: The __del__ method can be used to print debugging information or to perform other debugging tasks when an object is destroyed.\n",
        "\n"
      ],
      "metadata": {
        "id": "GzhcyD1V6S28"
      }
    },
    {
      "cell_type": "code",
      "source": [
        "class FileHandle:\n",
        "    def __init__(self, filename):\n",
        "        self.filename = filename\n",
        "        self.file = open(filename, 'r')"
      ],
      "metadata": {
        "id": "hKOqLAG7540F"
      },
      "execution_count": null,
      "outputs": []
    },
    {
      "cell_type": "code",
      "source": [
        "def __del__(self):\n",
        "        self.file.close()\n",
        "        print(f\"File {self.filename} closed\")"
      ],
      "metadata": {
        "id": "MHQo0YV-6X2H"
      },
      "execution_count": null,
      "outputs": []
    },
    {
      "cell_type": "markdown",
      "source": [
        "#6. What is the difference between import and from..import in python?"
      ],
      "metadata": {
        "id": "IFnHTaNy6iu9"
      }
    },
    {
      "cell_type": "markdown",
      "source": [
        "#Ans:- mport\n",
        "\n",
        "The import statement imports an entire module, making all its functions, classes, and variables available for use. When you use import, you need to prefix the module name to access its contents.\n"
      ],
      "metadata": {
        "id": "naLD_UWv648M"
      }
    },
    {
      "cell_type": "code",
      "source": [
        "import math\n",
        "print(math.pi)"
      ],
      "metadata": {
        "id": "pMB0bNSB6eFs"
      },
      "execution_count": null,
      "outputs": []
    },
    {
      "cell_type": "markdown",
      "source": [
        "From...Import\n",
        "\n",
        "The from...import statement imports specific functions, classes, or variables from a module, making them available for use without the need to prefix the module name.\n",
        "\n"
      ],
      "metadata": {
        "id": "FzPS91uz7AFE"
      }
    },
    {
      "cell_type": "code",
      "source": [
        "from math import pi\n",
        "print(pi)"
      ],
      "metadata": {
        "id": "mskXlVo769vm"
      },
      "execution_count": null,
      "outputs": []
    },
    {
      "cell_type": "markdown",
      "source": [
        "#7. How can you handle multiple exceptions in python?"
      ],
      "metadata": {
        "id": "CJT7p60a7LHV"
      }
    },
    {
      "cell_type": "markdown",
      "source": [
        "#1. Multiple Except Blocks:\n",
        "\n",
        "#try:\n",
        "    # Code that might raise exceptions\n",
        "#except ExceptionType1:\n",
        "    # Handle ExceptionType1\n",
        "#except ExceptionType2:\n",
        "    # Handle ExceptionType2"
      ],
      "metadata": {
        "id": "CfC2v4K571us"
      }
    },
    {
      "cell_type": "markdown",
      "source": [
        "1. Single Except Block with Multiple Exception Types:\n",
        "\n",
        "try:\n",
        "    # Code that might raise exceptions\n",
        "except (ExceptionType1, ExceptionType2):\n",
        "    # Handle both ExceptionType1 and ExceptionType2"
      ],
      "metadata": {
        "id": "6jK_kv3d7uXV"
      }
    },
    {
      "cell_type": "markdown",
      "source": [
        "try:\n",
        "    # Code that might raise exceptions\n",
        "except Exception as e:\n",
        "    # Handle the exception\n",
        "    print(f\"An error occurred: {e}\")\n",
        "\n",
        "\n"
      ],
      "metadata": {
        "id": "p0nMmqz-7_8k"
      }
    },
    {
      "cell_type": "markdown",
      "source": [
        "1. Finally Block:\n",
        "\n",
        "try:\n",
        "    # Code that might raise exceptions\n",
        "except ExceptionType1:\n",
        "    # Handle ExceptionType1\n",
        "except ExceptionType2:\n",
        "    # Handle ExceptionType2\n",
        "finally:\n",
        "    # Code that will always be executed, regardless of exceptions\n",
        "\n"
      ],
      "metadata": {
        "id": "7AS37m-x8G3c"
      }
    },
    {
      "cell_type": "markdown",
      "source": [
        "#8. What is thje puepose of the with statement when handling files in python?"
      ],
      "metadata": {
        "id": "OIG_d_2G8JUr"
      }
    },
    {
      "cell_type": "markdown",
      "source": [
        "#Ans:- The with statement in Python is used to manage resources, such as files, connections, or locks, that need to be cleaned up after use. When handling files, the with statement serves several purposes:\n",
        "\n",
        "1. Automatic file closing: The with statement ensures that the file is properly closed after it is no longer needed, regardless of whether an exception is thrown or not. This prevents file descriptor leaks and ensures that the file is released back to the operating system.\n",
        "2. Exception handling: The with statement provides a way to handle exceptions that may occur while working with the file. If an exception is thrown within the with block, the file will still be properly closed.\n",
        "3. Reduced boilerplate code: The with statement eliminates the need to write explicit code to close the file, making your code more concise and readable.\n",
        "4. Improved code safety: By using the with statement, you ensure that the file is properly closed, even if an exception is thrown or the program is interrupted.\n",
        "\n"
      ],
      "metadata": {
        "id": "_2k7HUep8k3N"
      }
    },
    {
      "cell_type": "code",
      "source": [
        "\n"
      ],
      "metadata": {
        "id": "S5Hu9hZ98pMt"
      },
      "execution_count": null,
      "outputs": []
    },
    {
      "cell_type": "code",
      "source": [
        "#Here's an example of using the with statement to read a file:\n",
        "\n",
        "with open('example.txt', 'r') as file:\n",
        "    contents = file.read()\n",
        "    print(contents)\n"
      ],
      "metadata": {
        "id": "uh45_mil7ig8"
      },
      "execution_count": null,
      "outputs": []
    },
    {
      "cell_type": "markdown",
      "source": [
        "#9.What is the differece between multithreading and multiprocesssing?"
      ],
      "metadata": {
        "id": "r8OrLUSL9YY0"
      }
    },
    {
      "cell_type": "markdown",
      "source": [
        "#Ans:- Multithreading\n",
        "\n",
        "Multithreading is a technique where multiple threads are executed concurrently within a single process. Each thread shares the same memory space and resources, and they can communicate with each other easily.\n",
        "\n",
        "Here are some key characteristics of multithreading:\n",
        "\n",
        "1. Shared memory: All threads share the same memory space.\n",
        "2. Lightweight: Creating a new thread is relatively lightweight compared to creating a new process.\n",
        "3. Fast communication: Threads can communicate with each other quickly and easily.\n",
        "4. Limited parallelism: Because threads share the same memory space, they can't run truly in parallel on multiple CPUs.\n"
      ],
      "metadata": {
        "id": "EYwUueP699d0"
      }
    },
    {
      "cell_type": "markdown",
      "source": [
        "Multiprocessing\n",
        "\n",
        "Multiprocessing is a technique where multiple processes are executed concurrently, each with its own memory space and resources. Each process runs in its own separate memory space, and they can't communicate with each other directly.\n",
        "\n",
        "Here are some key characteristics of multiprocessing:\n",
        "\n",
        "1. Separate memory: Each process has its own separate memory space.\n",
        "2. Heavyweight: Creating a new process is relatively heavyweight compared to creating a new thread.\n",
        "3. Slow communication: Processes can't communicate with each other directly, and they need to use inter-process communication (IPC) mechanisms like pipes, sockets, or shared memory.\n",
        "4. True parallelism: Because each process runs in its own separate memory space, they can run truly in parallel on multiple CPUs.\n",
        "\n"
      ],
      "metadata": {
        "id": "v00AuxjI9_ik"
      }
    },
    {
      "cell_type": "markdown",
      "source": [
        "#10. What are the advantages of using loggin in a program?"
      ],
      "metadata": {
        "id": "Mttr1fQg-DHk"
      }
    },
    {
      "cell_type": "markdown",
      "source": [
        "#Ans:- 1. Improved debugging: Logging allows you to track the flow of your program and identify where errors occur, making it easier to debug.\n",
        "2. Error tracking: Logging helps you to track and record errors, making it easier to diagnose and fix problems.\n",
        "3. Auditing: Logging provides a record of all activities, including user interactions, system events, and errors, which can be useful for auditing and compliance purposes.\n",
        "4. Performance monitoring: Logging can help you to monitor the performance of your program, including metrics such as execution time, memory usage, and resource utilization.\n",
        "5. Security monitoring: Logging can help you to detect and respond to security threats, such as unauthorized access attempts or data breaches.\n",
        "6. Troubleshooting: Logging provides valuable information for troubleshooting, allowing you to quickly identify the root cause of problems.\n",
        "7. Compliance: Logging can help you to meet regulatory requirements, such as HIPAA, PCI-DSS, and GDPR, which mandate the collection and retention of certain types of logs.\n",
        "8. Real-time monitoring: Logging can provide real-time insights into the behavior of your program, allowing you to quickly respond to issues and make data-driven decisions.\n",
        "9. Data analysis: Logging provides a rich source of data that can be analyzed to gain insights into user behavior, system performance, and other key metrics.\n",
        "10. Improved customer support: Logging can help you to provide better customer support by allowing you to quickly diagnose and resolve issues."
      ],
      "metadata": {
        "id": "12ZGzWMS-YFM"
      }
    },
    {
      "cell_type": "markdown",
      "source": [
        "#11. What is memory management in python?"
      ],
      "metadata": {
        "id": "WzEKamoj-a9s"
      }
    },
    {
      "cell_type": "markdown",
      "source": [
        "#Ans:- Python uses a private heap to manage memory, which is a pool of memory that is allocated and deallocated as needed. The memory management process in Python involves the following steps:\n",
        "\n",
        "1. Memory allocation: When a new object is created in Python, memory is allocated for that object from the private heap.\n",
        "2. Object creation: The object is created and initialized with the allocated memory.\n",
        "3. Reference counting: Python uses a reference counting mechanism to keep track of the number of references to an object. When an object is created, its reference count is set to 1.\n",
        "4. Garbage collection: When an object's reference count reaches 0, the object is considered garbage and is eligible for garbage collection. Python's garbage collector periodically runs and frees the memory occupied by garbage objects.\n",
        "\n",
        "Python's memory management has several benefits, including:\n",
        "\n",
        "1. Automatic memory management: Python's garbage collector automatically frees memory occupied by objects that are no longer needed, eliminating the need for manual memory management.\n",
        "2. Memory safety: Python's memory management ensures that objects are not accessed after they have been deleted, preventing common memory-related errors such as dangling pointers and use-after-free bugs.\n",
        "3. Efficient memory usage: Python's garbage collector helps to minimize memory usage by freeing memory occupied by objects that are no longer needed.\n",
        "\n",
        "However, Python's memory management also has some limitations, including:\n",
        "\n",
        "1. Performance overhead: Python's garbage collector can introduce performance overhead, especially in applications with large heaps or high allocation rates.\n",
        "2. Memory fragmentation: Python's garbage collector can lead to memory fragmentation, where free memory is broken into small, non-contiguous blocks that are difficult to allocate."
      ],
      "metadata": {
        "id": "UYyzCt7z-ofd"
      }
    },
    {
      "cell_type": "markdown",
      "source": [
        "#12. What are the basic step involved on exception handling in python?"
      ],
      "metadata": {
        "id": "NZbxxN7k-rIc"
      }
    },
    {
      "cell_type": "markdown",
      "source": [
        "#Ans:- Step 1: Try Block\n",
        "\n",
        "The try block contains the code that might raise an exception. This is the code that you want to protect against errors.\n",
        "\n",
        "Step 2: Except Block\n",
        "\n",
        "The except block contains the code that will be executed if an exception is raised in the try block. You can have multiple except blocks to handle different types of exceptions.\n",
        "\n",
        "Step 3: Raise Exception (Optional)\n",
        "\n",
        "If you want to raise an exception manually, you can use the raise keyword. This is useful when you want to handle an exception in a specific way.\n",
        "\n",
        "Step 4: Finally Block (Optional)\n",
        "\n",
        "The finally block contains the code that will be executed regardless of whether an exception was raised or not. This is useful for cleaning up resources, such as closing files or database connections.\n",
        "\n",
        "Step 5: Handle the Exception\n",
        "\n",
        "In the except block, you can handle the exception in a way that makes sense for your program. This might involve logging the error, displaying an error message to the user, or taking some other corrective action.\n",
        "\n"
      ],
      "metadata": {
        "id": "JbkqUtqV-_Ht"
      }
    },
    {
      "cell_type": "code",
      "source": [
        "try:\n",
        "    # Code that might raise an exception\n",
        "    x = 5 / 0\n",
        "except ZeroDivisionError:\n",
        "    # Handle the exception\n",
        "    print(\"Error: Cannot divide by zero!\")\n",
        "finally:\n",
        "    # Code that will be executed regardless of whether an exception was raised\n",
        "    print(\"Cleaning up...\")"
      ],
      "metadata": {
        "id": "6GLHFsh49WIF"
      },
      "execution_count": null,
      "outputs": []
    },
    {
      "cell_type": "markdown",
      "source": [
        "#13. Why is memory managment importent in python?"
      ],
      "metadata": {
        "id": "YWsqiwBs_FNV"
      }
    },
    {
      "cell_type": "markdown",
      "source": [
        "#Ans:- 1. Prevents Memory Leaks: Memory leaks occur when a program allocates memory but fails to release it, causing the memory to be wasted. Python's memory management helps to prevent memory leaks by automatically deallocating memory when it is no longer needed.\n",
        "2. Improves Performance: Efficient memory management can improve the performance of a Python program. When memory is managed properly, the program can run faster and more efficiently.\n",
        "3. Reduces Crashes: Memory-related errors can cause a program to crash. Python's memory management helps to prevent crashes by detecting and handling memory-related errors.\n",
        "4. Enhances Security: Memory management is also important for security reasons. When memory is not managed properly, it can lead to security vulnerabilities such as buffer overflows.\n",
        "5. Supports Large Data Sets: Python's memory management allows it to handle large data sets efficiently. This is particularly important in data science and scientific computing applications.\n",
        "6. Improves Code Quality: Good memory management practices can improve the overall quality of Python code. By using efficient memory management techniques, developers can write more efficient, scalable, and maintainable code.\n",
        "\n",
        "To manage memory effectively in Python, developers can use techniques such as:\n",
        "\n",
        "- Using the del statement to delete objects that are no longer needed\n",
        "- Using the gc module to manually collect garbage\n",
        "- Avoiding circular references\n",
        "- Using weak references\n",
        "- Using memory-efficient data structures"
      ],
      "metadata": {
        "id": "h5CKnfmc_aOD"
      }
    },
    {
      "cell_type": "markdown",
      "source": [
        "#14. What is the role if try and except in exception handling?"
      ],
      "metadata": {
        "id": "ujPNmOc0_dCL"
      }
    },
    {
      "cell_type": "markdown",
      "source": [
        "#Ans:- Try Block:\n",
        "\n",
        "The try block contains the code that might raise an exception. This is the code that you want to protect against errors. When an exception occurs within the try block, the execution of the code is interrupted, and the control is transferred to the corresponding except block.\n",
        "\n",
        "Except Block:\n",
        "\n",
        "The except block contains the code that will be executed when an exception occurs in the corresponding try block. The except block is used to handle the exception and provide a meaningful error message or take corrective action.\n",
        "\n"
      ],
      "metadata": {
        "id": "gWuX4gNp_ug2"
      }
    },
    {
      "cell_type": "code",
      "source": [
        "#Here's a simple example:\n",
        "\n",
        "try:\n",
        "    # Code that might raise an exception\n",
        "    x = 5 / 0\n",
        "except ZeroDivisionError:\n",
        "    # Code to handle the exception\n",
        "    print(\"Error: Cannot divide by zero!\")\n",
        "\n"
      ],
      "metadata": {
        "id": "4eI8LIRD_Zur"
      },
      "execution_count": null,
      "outputs": []
    },
    {
      "cell_type": "markdown",
      "source": [
        "#15. How does pythons garbage collaction systum work?"
      ],
      "metadata": {
        "id": "AfcLvzam_1Eb"
      }
    },
    {
      "cell_type": "markdown",
      "source": [
        "#Ans:- Python's garbage collection system is a mechanism that automatically manages memory and eliminates the need for manual memory management. Here's a high-level overview of how it works:\n",
        "\n",
        "1. Reference Counting: Python uses a reference counting algorithm to manage memory. Each object in Python has a reference count, which is the number of references to that object.\n",
        "2. Object Creation: When an object is created, its reference count is set to 1.\n",
        "3. Reference Increment: When a reference to an object is created (e.g., assigning an object to a variable), its reference count is incremented by 1.\n",
        "4. Reference Decrement: When a reference to an object is deleted (e.g., deleting a variable), its reference count is decremented by 1.\n",
        "5. Garbage Collection: When an object's reference count reaches 0, it is considered garbage and is eligible for garbage collection.\n",
        "6. Garbage Collection Cycle: Python's garbage collector periodically runs a cycle to identify and free garbage objects. The cycle involves the following steps:\n",
        "    - Identify garbage objects: The garbage collector identifies objects with a reference count of 0.\n",
        "    - Free memory: The garbage collector frees the memory occupied by the garbage objects.\n",
        "    - Update references: The garbage collector updates the references of other objects that pointed to the garbage objects.\n",
        "7. Generational Garbage Collection: Python's garbage collector uses a generational approach to improve performance. The collector divides objects into three generations based on their lifetime:\n",
        "    - Generation 0: Young objects (recently created)\n",
        "    - Generation 1: Middle-aged objects\n",
        "    - Generation 2: Old objects (long-lived)\n",
        "    - The collector focuses on the youngest generation (Generation 0) and collects garbage objects more frequently in this generation.\n",
        "\n",
        "Python's garbage collection system has several benefits, including:\n",
        "\n",
        "- Automatic memory management: Python's garbage collector eliminates the need for manual memory management.\n",
        "- Reduced memory leaks: The garbage collector helps to prevent memory leaks by identifying and freeing garbage objects.\n",
        "- Improved performance: The generational approach to garbage collection improves performance by reducing the frequency of garbage collection cycles.\n",
        "\n",
        "However, Python's garbage collection system is not perfect, and it can be affected by factors such as:\n",
        "\n",
        "- Memory fragmentation: The garbage collector can lead to memory fragmentation, which can affect performance.\n",
        "- Garbage collection pauses: The garbage collector can pause the program to collect garbage, which can affect responsiveness.\n",
        "- Circular references: Circular references can prevent the garbage collector from freeing memory, leading to memory leaks."
      ],
      "metadata": {
        "id": "SuPBBSkOAKnU"
      }
    },
    {
      "cell_type": "markdown",
      "source": [
        "#16.What is the purpose of the else black in exception handling?"
      ],
      "metadata": {
        "id": "DLoEqWUqAM70"
      }
    },
    {
      "cell_type": "markdown",
      "source": [
        "#Ans:- The else block in exception handling is used to specify code that should be executed when no exceptions are raised in the try block.\n",
        "\n",
        "The else block is optional and is executed only if the try block completes successfully without raising an exception. If an exception is raised in the try block, the else block is skipped and the corresponding except block is executed.\n",
        "\n"
      ],
      "metadata": {
        "id": "ICW58koyAfx-"
      }
    },
    {
      "cell_type": "code",
      "source": [
        "try:\n",
        "    # Code that might raise an exception\n",
        "    x = 5 / 1\n",
        "except ZeroDivisionError:\n",
        "    # Code to handle the exception\n",
        "    print(\"Error: Cannot divide by zero!\")\n",
        "else:\n",
        "    # Code to execute when no exception is raised\n",
        "    print(\"Division successful!\")\n"
      ],
      "metadata": {
        "id": "P-r2OgIZ_zoF"
      },
      "execution_count": null,
      "outputs": []
    },
    {
      "cell_type": "markdown",
      "source": [
        "#17. What are the common logging level in python?"
      ],
      "metadata": {
        "id": "9Uk-KBNvAm39"
      }
    },
    {
      "cell_type": "markdown",
      "source": [
        "#Ans:- In Python, the logging module provides several logging levels that can be used to categorize log messages based on their severity. Here are the common logging levels in Python, listed in order of increasing severity:\n",
        "\n",
        "1. DEBUG: This level is used for debugging purposes and provides detailed information about the program's execution.\n",
        "2. INFO: This level is used for informational messages that indicate the program's progress or important events.\n",
        "3. WARNING: This level is used for warning messages that indicate potential problems or unexpected behavior.\n",
        "4. ERROR: This level is used for error messages that indicate a problem that prevents the program from functioning correctly.\n",
        "5. CRITICAL: This level is used for critical messages that indicate a serious problem that requires immediate attention.\n",
        "\n",
        "These logging levels can be used to control the verbosity of log messages and to filter out messages that are not relevant to the current situation.\n",
        "\n"
      ],
      "metadata": {
        "id": "lFES9IE9A4CE"
      }
    },
    {
      "cell_type": "code",
      "source": [
        "import logging\n",
        "\n",
        "logging.basicConfig(level=logging.INFO)\n",
        "\n",
        "logging.debug(\"This is a debug message\")\n",
        "logging.info(\"This is an info message\")\n",
        "logging.warning(\"This is a warning message\")\n",
        "logging.error(\"This is an error message\")\n",
        "logging.critical(\"This is a critical message\")"
      ],
      "metadata": {
        "id": "lxe3qJVzAkV8"
      },
      "execution_count": null,
      "outputs": []
    },
    {
      "cell_type": "markdown",
      "source": [
        "#18. What is the difference between os.fork() and multiprocessing in python?"
      ],
      "metadata": {
        "id": "VbSmbVl2A-bU"
      }
    },
    {
      "cell_type": "markdown",
      "source": [
        "#Ans:- os.fork() and multiprocessing are two different ways to create new processes in Python. Here's a brief overview of each:\n",
        "\n",
        "- os.fork():\n",
        "\n",
        "os.fork() is a low-level system call that creates a new process by duplicating the current process. The new process, known as the child process, is a copy of the parent process and shares the same memory space.\n",
        "\n",
        "Here are some key characteristics of os.fork():\n",
        "\n",
        "1. Shared memory: The child process shares the same memory space as the parent process.\n",
        "2. Copy-on-write: When the child process modifies a shared variable, a copy of the variable is created, and the child process modifies the copy.\n",
        "3. No IPC: There is no built-in inter-process communication (IPC) mechanism between the parent and child processes.\n",
        "\n",
        "- multiprocessing:\n",
        "\n",
        "The multiprocessing module is a higher-level library that provides a way to create new processes and communicate between them. It uses the os.fork() system call under the hood but provides a more convenient and Pythonic API.\n",
        "\n",
        "Here are some key characteristics of multiprocessing:\n",
        "\n",
        "1. Separate memory spaces: Each process has its own separate memory space.\n",
        "2. IPC mechanisms: The multiprocessing module provides several IPC mechanisms, including pipes, queues, and shared memory.\n",
        "3. High-level API: The multiprocessing module provides a high-level API that makes it easy to create and manage processes.\n",
        "\n",
        "Key differences between os.fork() and multiprocessing:\n",
        "\n",
        "1. Memory sharing: os.fork() shares memory between parent and child processes, while multiprocessing creates separate memory spaces for each process.\n",
        "2. IPC mechanisms: multiprocessing provides built-in IPC mechanisms, while os.fork() does not.\n",
        "3. API complexity: multiprocessing provides a higher-level API that is easier to use, while os.fork() is a lower-level system call that requires more manual management.\n",
        "\n",
        "When to use each:\n",
        "\n",
        "1. Use `os.fork()`:\n",
        "    - When you need fine-grained control over process creation and management.\n",
        "    - When you need to share memory between parent and child processes.\n",
        "2. Use `multiprocessing`:\n",
        "    - When you need to create multiple processes and communicate between them.\n",
        "    - When you need a higher-level API that provides built-in IPC mechanisms and easier process management."
      ],
      "metadata": {
        "id": "Ekk2FzpBBW7u"
      }
    },
    {
      "cell_type": "markdown",
      "source": [
        "#19. What is the importence of closing a file in python?"
      ],
      "metadata": {
        "id": "0XnT2Ms_BZLl"
      }
    },
    {
      "cell_type": "markdown",
      "source": [
        "#Ans:- 1. Releases system resources: When a file is open, the operating system allocates resources such as file descriptors, memory, and disk space. Closing the file releases these resources, allowing them to be used by other processes.\n",
        "2. Prevents file corruption: If a file is not properly closed, data may not be written to the file or may be corrupted. Closing the file ensures that all data is written to the file and that the file is in a consistent state.\n",
        "3. Avoids file descriptor leaks: If a file is not closed, the file descriptor remains open, which can lead to file descriptor leaks. This can cause problems if the program opens many files without closing them.\n",
        "4. Ensures data integrity: Closing a file ensures that all data is written to the file and that the file is in a consistent state. This is especially important for files that contain critical data, such as financial transactions or user data.\n",
        "5. Prevents unexpected behavior: If a file is not properly closed, it can cause unexpected behavior in the program, such as file not found errors or permission errors.\n",
        "\n",
        "In Python, you can close a file using the close() method or by using the with statement, which automatically closes the file when you are done with it.\n",
        "\n"
      ],
      "metadata": {
        "id": "iglbbiGqBqis"
      }
    },
    {
      "cell_type": "markdown",
      "source": [
        "#20.What is the difference between file.raod() and file.reading() in python?"
      ],
      "metadata": {
        "id": "yDeCiZOgCDMc"
      }
    },
    {
      "cell_type": "markdown",
      "source": [
        "#Ans:- There is no file.reading() method in Python. The correct method is file.read().\n",
        "\n",
        "file.read() is used to read the contents of a file. It returns the contents of the file as a string.\n",
        "\n",
        "Here is an example:\n"
      ],
      "metadata": {
        "id": "Gm78bMQSCcz8"
      }
    },
    {
      "cell_type": "code",
      "source": [
        "file = open(\"example.txt\", \"r\")\n",
        "contents = file.read()\n",
        "print(contents)\n",
        "file.close()"
      ],
      "metadata": {
        "id": "6EEdnyX1Cg1V"
      },
      "execution_count": null,
      "outputs": []
    },
    {
      "cell_type": "markdown",
      "source": [
        "On the other hand, file.readline() is used to read a single line from a file. It returns the line as a string, including the newline character at the end.\n"
      ],
      "metadata": {
        "id": "UQ4qMV4ECygM"
      }
    },
    {
      "cell_type": "code",
      "source": [
        "file = open(\"example.txt\", \"r\")\n",
        "line = file.readline()\n",
        "print(line)\n",
        "file.close()"
      ],
      "metadata": {
        "id": "ejG3oT3IBwXk"
      },
      "execution_count": null,
      "outputs": []
    },
    {
      "cell_type": "markdown",
      "source": [
        "#21.What is the logging module in python used for?"
      ],
      "metadata": {
        "id": "4JjggSEnC7VD"
      }
    },
    {
      "cell_type": "markdown",
      "source": [
        "#Ans:- The logging module in Python is used for logging events that occur during the execution of a program. Logging is the process of recording events, such as errors, warnings, and informational messages, that occur during the execution of a program.\n",
        "\n",
        "The logging module provides a flexible and customizable way to log events in Python programs. It allows you to:\n",
        "\n",
        "1. Log events: Record events, such as errors, warnings, and informational messages, that occur during the execution of a program.\n",
        "2. Configure logging: Customize the logging behavior, such as setting the logging level, specifying the logging format, and configuring the logging handlers.\n",
        "3. Handle logging: Use logging handlers to handle logged events, such as writing them to a file, sending them to a network socket, or displaying them on the console.\n",
        "\n",
        "The logging module provides several benefits, including:\n",
        "\n",
        "1. Improved debugging: Logging helps you diagnose and debug issues in your program.\n",
        "2. Error tracking: Logging helps you track errors and exceptions that occur during the execution of your program.\n",
        "3. Auditing: Logging helps you maintain a record of important events, such as user actions or system changes.\n",
        "4. Compliance: Logging helps you meet regulatory requirements, such as logging financial transactions or security events.\n",
        "\n",
        "Some common use cases for the logging module include:\n",
        "\n",
        "1. Error handling: Logging errors and exceptions that occur during the execution of a program.\n",
        "2. Debugging: Logging debug messages to help diagnose issues in a program.\n",
        "3. Auditing: Logging important events, such as user actions or system changes.\n",
        "4. System monitoring: Logging system events, such as errors or warnings, to monitor system health."
      ],
      "metadata": {
        "id": "cpUpD9S2DUEs"
      }
    },
    {
      "cell_type": "markdown",
      "source": [
        "#22. What is the os module in python used for in file handling?"
      ],
      "metadata": {
        "id": "q4pdGo61DWRt"
      }
    },
    {
      "cell_type": "markdown",
      "source": [
        "#Ans:- The os module in Python is used for interacting with the operating system and provides a way to use operating system dependent functionality. In file handling, the os module is used for various tasks such as:\n",
        "\n",
        "1. Creating directories: The os.mkdir() function is used to create a new directory.\n",
        "2. Changing directories: The os.chdir() function is used to change the current working directory.\n",
        "3. Listing directory contents: The os.listdir() function is used to list the contents of a directory.\n",
        "4. Removing files and directories: The os.remove() and os.rmdir() functions are used to remove files and directories, respectively.\n",
        "5. Renaming files and directories: The os.rename() function is used to rename files and directories.\n",
        "6. Checking if a file or directory exists: The os.path.exists() function is used to check if a file or directory exists.\n",
        "7. Checking if a file is a directory: The os.path.isdir() function is used to check if a file is a directory.\n",
        "8. Getting the current working directory: The os.getcwd() function is used to get the current working directory.\n",
        "\n"
      ],
      "metadata": {
        "id": "-j7yMq-1DomF"
      }
    },
    {
      "cell_type": "code",
      "source": [
        "import os\n",
        "\n",
        "# Create a new directory\n",
        "os.mkdir(\"new_directory\")\n"
      ],
      "metadata": {
        "id": "Lfo9_avNCq3j"
      },
      "execution_count": null,
      "outputs": []
    },
    {
      "cell_type": "code",
      "source": [
        "# Change the current working directory\n",
        "os.chdir(\"new_directory\")\n"
      ],
      "metadata": {
        "id": "gQNvpQpGCrQ7"
      },
      "execution_count": null,
      "outputs": []
    },
    {
      "cell_type": "code",
      "source": [
        "# List the contents of the current directory\n",
        "print(os.listdir())"
      ],
      "metadata": {
        "id": "dm6-QZZKCrlc"
      },
      "execution_count": null,
      "outputs": []
    },
    {
      "cell_type": "markdown",
      "source": [
        "#23. What are the challanges asociated with memory managment in python?"
      ],
      "metadata": {
        "id": "8vjeLebXEEu8"
      }
    },
    {
      "cell_type": "markdown",
      "source": [
        "#Ans:- Python's memory management is generally considered to be easy to use and efficient. However, there are some challenges associated with memory management in Python:\n",
        "\n",
        "1. Memory leaks: Python's garbage collector is not perfect, and memory leaks can still occur. Memory leaks happen when objects are no longer needed but still hold onto memory.\n",
        "2. Circular references: When two or more objects reference each other, it can create a circular reference. This can prevent the garbage collector from freeing up memory.\n",
        "3. Large objects: Python's garbage collector can struggle with large objects, such as large lists or dictionaries. This can lead to performance issues and memory leaks.\n",
        "4. Memory fragmentation: When objects are created and deleted, it can lead to memory fragmentation. This is when free memory is broken up into small, non-contiguous blocks, making it harder to allocate large blocks of memory.\n",
        "5. External libraries: When using external libraries, such as C extensions or third-party libraries, memory management can become more complicated. These libraries may not follow Python's memory management rules, leading to memory leaks or other issues.\n",
        "6. Multithreading: When using multithreading in Python, memory management can become more complex. Each thread has its own memory space, and sharing objects between threads can lead to memory management issues.\n",
        "7. Memory-intensive operations: Certain operations, such as image processing or scientific computing, can be memory-intensive. This can lead to memory management issues, such as memory leaks or fragmentation.\n",
        "8. Limited control: Python's garbage collector provides limited control over memory management. This can make it difficult to optimize memory usage for specific use cases.\n",
        "\n",
        "To mitigate these challenges, Python developers can use various techniques, such as:\n",
        "\n",
        "- Using the __del__ method to clean up objects when they are no longer needed\n",
        "- Using weak references to avoid circular references\n",
        "- Using the gc module to manually collect garbage\n",
        "- Optimizing code to reduce memory usage\n",
        "- Using external libraries that provide more control over memory management"
      ],
      "metadata": {
        "id": "KTwGMjiaEZBG"
      }
    },
    {
      "cell_type": "markdown",
      "source": [
        "#24. How do you raise an exception manually in python?"
      ],
      "metadata": {
        "id": "M1hc_4QQEa5F"
      }
    },
    {
      "cell_type": "markdown",
      "source": [
        "In Python, you can raise an exception manually using the raise keyword. The general syntax is:\n",
        "\n",
        "raise ExceptionType(\"Error message\")\n",
        "\n",
        "Here, ExceptionType is the type of exception you want to raise, and \"Error message\" is the message that will be associated with the exception.\n",
        "\n",
        "For example:\n",
        "\n",
        "raise ValueError(\"Invalid input\")\n",
        "\n",
        "This will raise a ValueError exception with the message \"Invalid input\".\n",
        "\n",
        "You can also raise exceptions with additional information, such as:\n",
        "\n",
        "raise ValueError(\"Invalid input: {}\".format(input_value))\n",
        "\n",
        "This will raise a ValueError exception with a message that includes the value of input_value.\n",
        "\n",
        "Note that you can also raise exceptions with custom exception types. For example:\n",
        "\n",
        "class CustomException(Exception):\n",
        "    pass\n",
        "\n",
        "raise CustomException(\"Something went wrong\")\n",
        "\n",
        "This will raise a custom exception with the message \"Something went wrong\".\n",
        "\n"
      ],
      "metadata": {
        "id": "jGhjf5TNEvYt"
      }
    },
    {
      "cell_type": "markdown",
      "source": [
        "#25. Why is it important to use multithreading in certain applications?"
      ],
      "metadata": {
        "id": "fvodG7l3E19U"
      }
    },
    {
      "cell_type": "markdown",
      "source": [
        "#Ans:- Multithreading is important in certain applications for several reasons:\n",
        "\n",
        "1. Improved responsiveness: By running multiple threads concurrently, an application can respond to user input and other events more quickly, even if one thread is performing a time-consuming task.\n",
        "2. Increased throughput: Multithreading can take advantage of multiple CPU cores, allowing an application to perform multiple tasks simultaneously and increasing overall throughput.\n",
        "3. Better resource utilization: Multithreading can help to optimize resource utilization, such as CPU, memory, and I/O devices, by allowing multiple threads to share these resources.\n",
        "4. Enhanced scalability: Multithreading can make an application more scalable, as it can handle a larger number of concurrent requests or tasks without a significant decrease in performance.\n",
        "5. Improved system reliability: By running multiple threads concurrently, an application can recover more quickly from errors or exceptions, as other threads can continue to run while the affected thread is restarted or terminated.\n",
        "6. Better support for I/O-bound operations: Multithreading is particularly useful for I/O-bound operations, such as reading or writing files, network communication, or database queries, as these operations often involve waiting for external resources to become available.\n",
        "\n",
        "Examples of applications that can benefit from multithreading include:\n",
        "\n",
        "1. Web servers and web applications\n",
        "2. Database servers and query engines\n",
        "3. File servers and storage systems\n",
        "4. Network protocols and communication systems\n",
        "5. Scientific simulations and data processing\n",
        "6. Real-time systems and embedded systems\n",
        "\n",
        "However, it's worth noting that multithreading can also introduce additional complexity and challenges, such as:\n",
        "\n",
        "1. Synchronization and concurrency issues\n",
        "2. Deadlocks and livelocks\n",
        "3. Thread safety and data consistency\n",
        "4. Performance overhead and resource contention\n",
        "\n",
        "Therefore, multithreading should be used judiciously and with careful consideration of the specific requirements and constraints of the application."
      ],
      "metadata": {
        "id": "eIKzKNvRFLL9"
      }
    },
    {
      "cell_type": "markdown",
      "source": [
        "#Practical questions.."
      ],
      "metadata": {
        "id": "WRW_dwETFY68"
      }
    },
    {
      "cell_type": "markdown",
      "source": [
        "#1. How can you open a file for writing in python and write a string to it?"
      ],
      "metadata": {
        "id": "ReilVGtGFh0U"
      }
    },
    {
      "cell_type": "markdown",
      "source": [
        "#Ans:- To open a file for writing in Python and write a string to it, you can use the following code:"
      ],
      "metadata": {
        "id": "oWcVmcKbF5BV"
      }
    },
    {
      "cell_type": "code",
      "source": [
        "file = open(\"example.txt\", \"w\")\n",
        "file.write(\"Hello, World!\")\n",
        "file.close()"
      ],
      "metadata": {
        "id": "VD3nQhrPE0J1"
      },
      "execution_count": null,
      "outputs": []
    },
    {
      "cell_type": "markdown",
      "source": [
        "1. open(\"example.txt\", \"w\"): This opens a file named example.txt in write mode (\"w\"). If the file doesn't exist, it will be created. If it does exist, its contents will be overwritten.\n",
        "2. file.write(\"Hello, World!\"): This writes the string \"Hello, World!\" to the file.\n",
        "3. file.close(): This closes the file. It's good practice to close files when you're done with them to free up system resources.\n",
        "\n",
        "Alternatively, you can use the with statement, which automatically closes the file for you:\n",
        "\n"
      ],
      "metadata": {
        "id": "pjbFe211GCJV"
      }
    },
    {
      "cell_type": "code",
      "source": [
        "with open(\"example.txt\", \"w\") as file:\n",
        "    file.write(\"Hello, World!\")"
      ],
      "metadata": {
        "id": "FAAn8GPEF-z8"
      },
      "execution_count": null,
      "outputs": []
    },
    {
      "cell_type": "markdown",
      "source": [
        "#2.Write a python program to read the contents of a file and print each line."
      ],
      "metadata": {
        "id": "pyFLJUpCGF61"
      }
    },
    {
      "cell_type": "markdown",
      "source": [
        "#Ans:- Here is a simple Python program that reads the contents of a file and prints each line:\n"
      ],
      "metadata": {
        "id": "pCvDTqLEGgps"
      }
    },
    {
      "cell_type": "code",
      "source": [
        "def read_file(filename):\n",
        "    try:\n",
        "        with open(filename, 'r') as file:\n",
        "            for line in file:\n",
        "                print(line.strip())\n",
        "    except FileNotFoundError:\n",
        "        print(f\"File '{filename}' not found.\")"
      ],
      "metadata": {
        "id": "W1uRs2JIGFHt"
      },
      "execution_count": null,
      "outputs": []
    },
    {
      "cell_type": "code",
      "source": [
        "filename = input(\"Enter the filename: \")\n",
        "read_file(filename)"
      ],
      "metadata": {
        "id": "OZjSASaSGnrv"
      },
      "execution_count": null,
      "outputs": []
    },
    {
      "cell_type": "markdown",
      "source": [
        "Here's how the program works:\n",
        "\n",
        "1. The read_file function takes a filename as input and attempts to open the file in read mode ('r').\n",
        "2. The with statement ensures that the file is properly closed when we're done with it, regardless of whether an exception is thrown or not.\n",
        "3. The for loop iterates over each line in the file. The strip() method is used to remove any leading or trailing whitespace from each line.\n",
        "4. The print statement prints each line to the console.\n",
        "5. The try-except block catches any FileNotFoundError exceptions that might be raised if the file does not exist. If the file is not found, an error message is printed to the console.\n",
        "6. The program prompts the user to enter a filename, and then calls the read_file function with the entered filename."
      ],
      "metadata": {
        "id": "XmJ0hcAOGv1I"
      }
    },
    {
      "cell_type": "markdown",
      "source": [
        "#3. How would you handle a case where the file doesn't exist while trying to open it for reading?"
      ],
      "metadata": {
        "id": "qSZhOjdVG0OW"
      }
    },
    {
      "cell_type": "markdown",
      "source": [
        "#Ans:- To handle a case where the file doesn't exist while trying to open it for reading, you can use a try-except block to catch the FileNotFoundError exception that is raised when Python tries to open a file that doesn't exist.\n",
        "\n"
      ],
      "metadata": {
        "id": "8suHOkfdHRR0"
      }
    },
    {
      "cell_type": "code",
      "source": [
        "def read_file(filename):\n",
        "    try:\n",
        "        with open(filename, 'r') as file:\n",
        "            # Read and process the file\n",
        "            for line in file:\n",
        "                print(line.strip())\n",
        "    except FileNotFoundError:\n",
        "        print(f\"File '{filename}' not found.\")\n",
        "    except Exception as e:\n",
        "        print(f\"An error occurred: {e}\")"
      ],
      "metadata": {
        "id": "s9LdmSu8GqpL"
      },
      "execution_count": null,
      "outputs": []
    },
    {
      "cell_type": "code",
      "source": [
        "filename = input(\"Enter the filename: \")\n",
        "read_file(filename)"
      ],
      "metadata": {
        "id": "eV7kLPWWHVMe"
      },
      "execution_count": null,
      "outputs": []
    },
    {
      "cell_type": "markdown",
      "source": [
        "In this example, the try block attempts to open the file and read its contents. If the file doesn't exist, a FileNotFoundError exception is raised, and the code in the except FileNotFoundError block is executed. This block prints an error message indicating that the file was not found.\n",
        "\n",
        "You can also use the os.path.exists() function to check if the file exists before trying to open it:\n"
      ],
      "metadata": {
        "id": "c8BtZbpBHeM8"
      }
    },
    {
      "cell_type": "code",
      "source": [
        "import os\n",
        "\n",
        "def read_file(filename):\n",
        "    if not os.path.exists(filename):\n",
        "        print(f\"File '{filename}' not found.\")\n",
        "    else:\n",
        "        with open(filename, 'r') as file:\n",
        "            # Read and process the file\n",
        "            for line in file:\n",
        "                print(line.strip())"
      ],
      "metadata": {
        "id": "7EBiZOS6HX0L"
      },
      "execution_count": null,
      "outputs": []
    },
    {
      "cell_type": "code",
      "source": [
        "filename = input(\"Enter the filename: \")\n",
        "read_file(filename)"
      ],
      "metadata": {
        "id": "yXwo0XdtHhkU"
      },
      "execution_count": null,
      "outputs": []
    },
    {
      "cell_type": "markdown",
      "source": [
        "#4. Write a python script that reads from one file and writes its content to another file?"
      ],
      "metadata": {
        "id": "86fMPKRmHnFN"
      }
    },
    {
      "cell_type": "markdown",
      "source": [
        "#Ans:- Here is a simple Python script that reads from one file and writes its content to another file:\n"
      ],
      "metadata": {
        "id": "SskoAds5IDi8"
      }
    },
    {
      "cell_type": "code",
      "source": [
        "def copy_file(source_file, target_file):\n",
        "    try:\n",
        "        with open(source_file, 'r') as source:\n",
        "            with open(target_file, 'w') as target:\n",
        "                target.write(source.read())\n",
        "        print(f\"File '{source_file}' copied to '{target_file}'\")\n",
        "    except FileNotFoundError:\n",
        "        print(f\"File '{source_file}' not found.\")\n",
        "    except Exception as e:\n",
        "        print(f\"An error occurred: {e}\")"
      ],
      "metadata": {
        "id": "dUd_WkzgHkQs"
      },
      "execution_count": null,
      "outputs": []
    },
    {
      "cell_type": "code",
      "source": [
        "source_file = input(\"Enter the source file name: \")\n",
        "target_file = input(\"Enter the target file name: \")"
      ],
      "metadata": {
        "id": "_b3zaDz5IH78"
      },
      "execution_count": null,
      "outputs": []
    },
    {
      "cell_type": "markdown",
      "source": [
        "Here's how the script works:\n",
        "\n",
        "1. The copy_file function takes two arguments: source_file and target_file.\n",
        "2. The function opens the source_file in read mode ('r') and the target_file in write mode ('w') using the with statement.\n",
        "3. The read() method is used to read the contents of the source_file, and the write() method is used to write the contents to the target_file.\n",
        "4. If the source_file does not exist, a FileNotFoundError exception is raised, and an error message is printed.\n",
        "5. If any other exception occurs, an error message is printed.\n",
        "6. The script prompts the user to enter the source file name and the target file name, and then calls the copy_file function with these file names.\n",
        "\n",
        "Note that this script will overwrite the target file if it already exists. If you want to append to the target file instead of overwriting it, you can change the open mode from 'w' to 'a'."
      ],
      "metadata": {
        "id": "suw-KvEmIVY9"
      }
    },
    {
      "cell_type": "markdown",
      "source": [
        "#5. How would you catch and handle division by zero error in python?"
      ],
      "metadata": {
        "id": "T5zZXlzJIWXc"
      }
    },
    {
      "cell_type": "markdown",
      "source": [
        "#Ans:- You can catch and handle division by zero error in Python using a try-except block. Here's an example:\n",
        "\n"
      ],
      "metadata": {
        "id": "8Ys-_IMOIqkt"
      }
    },
    {
      "cell_type": "code",
      "source": [
        "try:\n",
        "    x = 10 / 0\n",
        "except ZeroDivisionError:\n",
        "    print(\"Error: Division by zero is not allowed.\")"
      ],
      "metadata": {
        "id": "GMXHZfN7IKts"
      },
      "execution_count": null,
      "outputs": []
    },
    {
      "cell_type": "markdown",
      "source": [
        "In this example, the try block attempts to divide 10 by 0, which raises a ZeroDivisionError. The except block catches this error and prints an error message.\n",
        "\n",
        "You can also provide additional error handling, such as:\n"
      ],
      "metadata": {
        "id": "RmKX58niIxFE"
      }
    },
    {
      "cell_type": "code",
      "source": [
        "try:\n",
        "    x = 10 / 0\n",
        "except ZeroDivisionError:\n",
        "    print(\"Error: Division by zero is not allowed.\")\n",
        "    # Provide alternative value or action\n",
        "    x = None\n",
        "    print(\"Setting x to None\")\n",
        ""
      ],
      "metadata": {
        "id": "p-tDqXGKIuNu"
      },
      "execution_count": null,
      "outputs": []
    },
    {
      "cell_type": "markdown",
      "source": [
        "Alternatively, you can use the try-except block to handle multiple exceptions:"
      ],
      "metadata": {
        "id": "dhUBPckAI3jt"
      }
    },
    {
      "cell_type": "code",
      "source": [
        "try:\n",
        "    x = 10 / 0\n",
        "except (ZeroDivisionError, TypeError):\n",
        "    print(\"Error: Invalid operation\")"
      ],
      "metadata": {
        "id": "Iw3tMPMRI02U"
      },
      "execution_count": null,
      "outputs": []
    },
    {
      "cell_type": "markdown",
      "source": [
        "It's also a good practice to provide a meaningful error message and to log the error for further investigation:\n"
      ],
      "metadata": {
        "id": "LMR4_i_JI8ls"
      }
    },
    {
      "cell_type": "code",
      "source": [
        "import logging\n",
        "\n",
        "try:\n",
        "    x = 10 / 0\n",
        "except ZeroDivisionError:\n",
        "    logging.error(\"Division by zero error occurred\")\n",
        "    print(\"Error: Division by zero is not allowed.\")"
      ],
      "metadata": {
        "id": "Fv4_Fbj-I6P8"
      },
      "execution_count": null,
      "outputs": []
    },
    {
      "cell_type": "markdown",
      "source": [
        "#6.Write a python program that logs on error massage to a log file when a division by zero exception occurs."
      ],
      "metadata": {
        "id": "8uuuLFwaJAk0"
      }
    },
    {
      "cell_type": "markdown",
      "source": [
        "#Ans:- Here's a simple Python program that logs an error message to a log file when a division by zero exception occurs:\n"
      ],
      "metadata": {
        "id": "mrbjEBVZJbqN"
      }
    },
    {
      "cell_type": "code",
      "source": [
        "import logging\n",
        "\n",
        "# Set up logging configuration\n",
        "logging.basicConfig(filename='error.log', level=logging.ERROR)\n",
        "\n",
        "def divide_numbers(num1, num2):\n",
        "    try:\n",
        "        result = num1 / num2\n",
        "        print(f\"{num1} divided by {num2} is {result}\")\n",
        "    except ZeroDivisionError:\n",
        "        logging.error(\"Division by zero error occurred\")\n",
        "        print(\"Error: Division by zero is not allowed.\")\n"
      ],
      "metadata": {
        "id": "XWvhqAcqI_s8"
      },
      "execution_count": null,
      "outputs": []
    },
    {
      "cell_type": "code",
      "source": [
        "\n",
        "# Test the function\n",
        "num1 = 10\n",
        "num2 = 0\n",
        "divide_numbers(num1, num2)\n"
      ],
      "metadata": {
        "id": "P6GTCOsaJhr-"
      },
      "execution_count": null,
      "outputs": []
    },
    {
      "cell_type": "markdown",
      "source": [
        "1. We import the logging module, which provides a flexible event logging system.\n",
        "2. We set up a basic logging configuration using logging.basicConfig(). We specify the filename of the log file (error.log) and the logging level (ERROR).\n",
        "3. We define a function divide_numbers() that takes two numbers as input and attempts to divide them.\n",
        "4. We use a try-except block to catch any ZeroDivisionError exceptions that may occur.\n",
        "5. If a ZeroDivisionError exception occurs, we log an error message to the log file using logging.error(). We also print an error message to the console.\n",
        "6. Finally, we test the divide_numbers() function with some sample input values.\n",
        "\n",
        "When you run this program, it will attempt to divide 10 by 0, which will raise a ZeroDivisionError exception. The program will log an error message to the error.log file and print an error message to the console."
      ],
      "metadata": {
        "id": "9PwvvL9eJnoL"
      }
    },
    {
      "cell_type": "markdown",
      "source": [
        "#7. How do you log informetion at different levels (INFO,ERROR,ERINING) in python using the logging module?"
      ],
      "metadata": {
        "id": "sNM2Ty39JpP8"
      }
    },
    {
      "cell_type": "markdown",
      "source": [
        "#Ans:- To log information at different levels (INFO, ERROR, WARNING) in Python using the logging module, you can use the following methods:\n",
        "\n",
        "- logging.info(): Logs information at the INFO level.\n",
        "- logging.error(): Logs information at the ERROR level.\n",
        "- logging.warning(): Logs information at the WARNING level.\n"
      ],
      "metadata": {
        "id": "W0kewz0IKI7U"
      }
    },
    {
      "cell_type": "code",
      "source": [
        "import logging\n",
        "\n",
        "# Set the logging level to DEBUG (this will allow us to see all levels of messages)\n",
        "logging.basicConfig(level=logging.DEBUG)\n",
        "\n",
        "# Log some messages at different levels\n",
        "logging.debug(\"This is a debug message\")\n",
        "logging.info(\"This is an info message\")\n",
        "logging.warning(\"This is a warning message\")\n",
        "logging.error(\"This is an error message\")\n",
        "logging.critical(\"This is a critical message\")"
      ],
      "metadata": {
        "id": "VC_e9NOnJkw0"
      },
      "execution_count": null,
      "outputs": []
    },
    {
      "cell_type": "markdown",
      "source": [
        "#8. Write a program to handle a file opening error using exception handling?"
      ],
      "metadata": {
        "id": "-g6-GGWtKOI2"
      }
    },
    {
      "cell_type": "markdown",
      "source": [
        "#Ans:- Here's a simple Python program that demonstrates how to handle a file opening error using exception handling:\n"
      ],
      "metadata": {
        "id": "QzmTU_rNKix2"
      }
    },
    {
      "cell_type": "code",
      "source": [
        "def open_file(filename):\n",
        "    try:\n",
        "        file = open(filename, 'r')\n",
        "        print(f\"File '{filename}' opened successfully.\")\n",
        "        file.close()\n",
        "    except FileNotFoundError:\n",
        "        print(f\"Error: File '{filename}' not found.\")\n",
        "    except PermissionError:\n",
        "        print(f\"Error: Permission denied to open file '{filename}'.\")\n",
        "    except Exception as e:\n",
        "        print(f\"An error occurred: {e}\")"
      ],
      "metadata": {
        "id": "Ff4CaBQhKNTu"
      },
      "execution_count": null,
      "outputs": []
    },
    {
      "cell_type": "code",
      "source": [
        "filename = input(\"Enter the filename: \")\n",
        "open_file(filename)\n"
      ],
      "metadata": {
        "id": "LgfOD_aFKmm2"
      },
      "execution_count": null,
      "outputs": []
    },
    {
      "cell_type": "markdown",
      "source": [
        "1. We define a function open_file() that takes a filename as input.\n",
        "2. We use a try-except block to handle any exceptions that may occur when trying to open the file.\n",
        "3. We attempt to open the file in read mode ('r') using the open() function.\n",
        "4. If the file is opened successfully, we print a success message and close the file using the close() method.\n",
        "5. If a FileNotFoundError exception occurs, we print an error message indicating that the file was not found.\n",
        "6. If a PermissionError exception occurs, we print an error message indicating that permission was denied to open the file.\n",
        "7. If any other exception occurs, we print a generic error message with the exception details.\n",
        "8. Finally, we prompt the user to enter a filename and call the open_file() function with the entered filename.\n",
        "\n",
        "When you run this program, it will attempt to open the specified file and handle any errors that may occur."
      ],
      "metadata": {
        "id": "IoB_Ldy_Kt2F"
      }
    },
    {
      "cell_type": "markdown",
      "source": [
        "#9. How can you read a file line by line and store its content in a list in python?"
      ],
      "metadata": {
        "id": "gt6wlJP9KvBu"
      }
    },
    {
      "cell_type": "markdown",
      "source": [
        "#Ans:- You can read a file line by line and store its content in a list in Python using the following methods:\n",
        "\n"
      ],
      "metadata": {
        "id": "bnXJu5nTLCjU"
      }
    },
    {
      "cell_type": "code",
      "source": [
        "def read_file(filename):\n",
        "    try:\n",
        "        with open(filename, 'r') as file:\n",
        "            lines = []\n",
        "            for line in file:\n",
        "                lines.append(line.strip())\n",
        "        return lines\n",
        "    except FileNotFoundError:\n",
        "        print(f\"File '{filename}' not found.\")\n",
        "        return []"
      ],
      "metadata": {
        "id": "IoqX1Q4cKplb"
      },
      "execution_count": null,
      "outputs": []
    },
    {
      "cell_type": "code",
      "source": [
        "filename = input(\"Enter the filename: \")\n",
        "lines = read_file(filename)\n",
        "print(lines)\n"
      ],
      "metadata": {
        "id": "BoFxtgiuLHA1"
      },
      "execution_count": null,
      "outputs": []
    },
    {
      "cell_type": "markdown",
      "source": [
        "Method 2: Using the readlines() method\n"
      ],
      "metadata": {
        "id": "A7JGZpqJLOEc"
      }
    },
    {
      "cell_type": "code",
      "source": [
        "def read_file(filename):\n",
        "    try:\n",
        "        with open(filename, 'r') as file:\n",
        "            lines = file.readlines()\n",
        "            lines = [line.strip() for line in lines]\n",
        "        return lines\n",
        "    except FileNotFoundError:\n",
        "        print(f\"File '{filename}' not found.\")\n",
        "        return []\n"
      ],
      "metadata": {
        "id": "n0C1PYBELKFM"
      },
      "execution_count": null,
      "outputs": []
    },
    {
      "cell_type": "code",
      "source": [
        "filename = input(\"Enter the filename: \")\n",
        "lines = read_file(filename)\n",
        "print(lines)"
      ],
      "metadata": {
        "id": "ls7V8P0WLQpU"
      },
      "execution_count": null,
      "outputs": []
    },
    {
      "cell_type": "markdown",
      "source": [
        "Method 3: Using a list comprehension\n"
      ],
      "metadata": {
        "id": "QwXpdjYgLWol"
      }
    },
    {
      "cell_type": "code",
      "source": [
        "def read_file(filename):\n",
        "    try:\n",
        "        with open(filename, 'r') as file:\n",
        "            lines = [line.strip() for line in file]\n",
        "        return lines\n",
        "    except FileNotFoundError:\n",
        "        print(f\"File '{filename}' not found.\")\n",
        "        return []"
      ],
      "metadata": {
        "id": "9mFJHDM5LTY0"
      },
      "execution_count": null,
      "outputs": []
    },
    {
      "cell_type": "code",
      "source": [
        "\n",
        "filename = input(\"Enter the filename: \")\n",
        "lines = read_file(filename)\n",
        "print(lines)"
      ],
      "metadata": {
        "id": "sjIFVOk_LaB8"
      },
      "execution_count": null,
      "outputs": []
    },
    {
      "cell_type": "markdown",
      "source": [
        "All of these methods will read the file line by line and store its content in a list. The strip() method is used to remove any leading or trailing whitespace from each line."
      ],
      "metadata": {
        "id": "9yydOiavLf4M"
      }
    },
    {
      "cell_type": "markdown",
      "source": [
        "#10. How can you append data to an existing file in python?"
      ],
      "metadata": {
        "id": "-jR5yzYgLha8"
      }
    },
    {
      "cell_type": "markdown",
      "source": [
        "#Ans:- You can append data to an existing file in Python by opening the file in append mode ('a') instead of write mode ('w'). Here's an example:\n"
      ],
      "metadata": {
        "id": "dnejYvWpL358"
      }
    },
    {
      "cell_type": "code",
      "source": [
        "with open('example.txt', 'a') as file:\n",
        "    file.write('New data to append\\n')\n"
      ],
      "metadata": {
        "id": "-a0l7JPRLcNU"
      },
      "execution_count": null,
      "outputs": []
    },
    {
      "cell_type": "markdown",
      "source": [
        "\n",
        "This will append the string 'New data to append\\n' to the end of the existing file example.txt.\n",
        "\n",
        "Alternatively, you can use the print() function with the file argument to append data to the file:\n"
      ],
      "metadata": {
        "id": "3y6LnkXoL-t1"
      }
    },
    {
      "cell_type": "code",
      "source": [
        "with open('example.txt', 'a') as file:\n",
        "    print('New data to append', file=file)"
      ],
      "metadata": {
        "id": "G8Lrd5r4L8fe"
      },
      "execution_count": null,
      "outputs": []
    },
    {
      "cell_type": "markdown",
      "source": [
        "Note that if the file does not exist, opening it in append mode will create a new file.\n",
        "\n",
        "Also, you can use the a+ mode to open the file for both reading and appending:\n"
      ],
      "metadata": {
        "id": "ra8INsoUMEs0"
      }
    },
    {
      "cell_type": "code",
      "source": [
        "with open('example.txt', 'a+') as file:\n",
        "    file.write('New data to append\\n')\n",
        "    file.seek(0)  # move the file pointer to the beginning of the file\n",
        "    print(file.read())  # read the contents of the file\n"
      ],
      "metadata": {
        "id": "r1L3CkvfMBjc"
      },
      "execution_count": null,
      "outputs": []
    },
    {
      "cell_type": "markdown",
      "source": [
        "#11. Write a python program that uses a try-except block to handle an error when attempting to access adictionary key that doesn't exist."
      ],
      "metadata": {
        "id": "2e4aWi0HMIoU"
      }
    },
    {
      "cell_type": "markdown",
      "source": [
        "#Ans:- Here's a simple Python program that uses a try-except block to handle an error when attempting to access a dictionary key that doesn't exist:\n"
      ],
      "metadata": {
        "id": "01K8Qb4mMwE2"
      }
    },
    {
      "cell_type": "code",
      "source": [
        "def access_dict_key(dictionary, key):\n",
        "    try:\n",
        "        value = dictionary[key]\n",
        "        print(f\"The value of '{key}' is: {value}\")\n",
        "    except KeyError:\n",
        "        print(f\"Error: Key '{key}' not found in dictionary.\")"
      ],
      "metadata": {
        "id": "ya8f4A2IMHok"
      },
      "execution_count": null,
      "outputs": []
    },
    {
      "cell_type": "code",
      "source": [
        "# Create a dictionary\n",
        "my_dict = {'name': 'John', 'age': 30}"
      ],
      "metadata": {
        "id": "uwlM8pmuM0fl"
      },
      "execution_count": null,
      "outputs": []
    },
    {
      "cell_type": "code",
      "source": [
        "# Attempt to access existing and non-existent keys\n",
        "access_dict_key(my_dict, 'name')\n",
        "access_dict_key(my_dict, 'city')\n"
      ],
      "metadata": {
        "id": "CwDL5WanM21r"
      },
      "execution_count": null,
      "outputs": []
    },
    {
      "cell_type": "markdown",
      "source": [
        "1. We define a function access_dict_key() that takes a dictionary and a key as input.\n",
        "2. We use a try-except block to attempt to access the specified key in the dictionary.\n",
        "3. If the key exists, we retrieve its value and print it to the console.\n",
        "4. If the key does not exist, a KeyError exception is raised, and we catch it in the except block.\n",
        "5. In the except block, we print an error message indicating that the key was not found in the dictionary.\n",
        "6. We create a dictionary my_dict and attempt to access both existing and non-existent keys using the access_dict_key() function.\n",
        "\n"
      ],
      "metadata": {
        "id": "PEEZyGRYM9K8"
      }
    },
    {
      "cell_type": "markdown",
      "source": [
        "#12. Write a program that demonstrates using multipal except block to handle different type of exceptions."
      ],
      "metadata": {
        "id": "dRi35QbwM-dF"
      }
    },
    {
      "cell_type": "markdown",
      "source": [
        "#Ans:- Here's a simple Python program that demonstrates using multiple except blocks to handle different types of exceptions:\n"
      ],
      "metadata": {
        "id": "dELc1XeVNazE"
      }
    },
    {
      "cell_type": "code",
      "source": [
        "def divide_numbers(num1, num2):\n",
        "    try:\n",
        "        result = num1 / num2\n",
        "        print(f\"{num1} divided by {num2} is {result}\")\n",
        "    except ZeroDivisionError:\n",
        "        print(\"Error: Division by zero is not allowed.\")\n",
        "    except TypeError:\n",
        "        print(\"Error: Invalid input type. Please enter numbers only.\")\n",
        "    except Exception as e:\n",
        "        print(f\"An unexpected error occurred: {e}\")"
      ],
      "metadata": {
        "id": "fpwOoSjNM5xN"
      },
      "execution_count": null,
      "outputs": []
    },
    {
      "cell_type": "code",
      "source": [
        "# Test the function with different inputs\n",
        "divide_numbers(10, 2)\n",
        "divide_numbers(10, 0)\n",
        "divide_numbers('ten', 2)\n",
        "divide_numbers(10, None)"
      ],
      "metadata": {
        "id": "7G23tcdtNetl"
      },
      "execution_count": null,
      "outputs": []
    },
    {
      "cell_type": "markdown",
      "source": [
        "1. We define a function divide_numbers() that takes two numbers as input and attempts to divide them.\n",
        "2. We use a try-except block to catch and handle different types of exceptions that may occur.\n",
        "3. We have separate except blocks to handle ZeroDivisionError, TypeError, and any other unexpected exceptions.\n",
        "4. In each except block, we print an error message that is specific to the type of exception that occurred.\n",
        "5. We test the function with different inputs to demonstrate how it handles different types of exceptions.\n"
      ],
      "metadata": {
        "id": "5zi4jI63Nk3d"
      }
    },
    {
      "cell_type": "markdown",
      "source": [
        "#13. How would you chack if a file exists before attempting to read it in python?"
      ],
      "metadata": {
        "id": "E0srO9uONl7n"
      }
    },
    {
      "cell_type": "markdown",
      "source": [
        "#Ans:- You can check if a file exists before attempting to read it in Python using the os.path.exists() function. Here's an example:\n"
      ],
      "metadata": {
        "id": "MuYTxh9VN8NM"
      }
    },
    {
      "cell_type": "code",
      "source": [
        "import os\n",
        "\n",
        "def check_file_exists(filename):\n",
        "    if os.path.exists(filename):\n",
        "        print(f\"File '{filename}' exists.\")\n",
        "        # Attempt to read the file\n",
        "        with open(filename, 'r') as file:\n",
        "            print(file.read())\n",
        "    else:\n",
        "        print(f\"File '{filename}' does not exist.\")"
      ],
      "metadata": {
        "id": "ujrFGWoqNhQc"
      },
      "execution_count": null,
      "outputs": []
    },
    {
      "cell_type": "code",
      "source": [
        "filename = input(\"Enter the filename: \")\n",
        "check_file_exists(filename)\n"
      ],
      "metadata": {
        "id": "OKqBB6b-OAV_"
      },
      "execution_count": null,
      "outputs": []
    },
    {
      "cell_type": "markdown",
      "source": [
        "\n",
        "Alternatively, you can use the pathlib module, which provides a more modern and Pythonic way of working with paths"
      ],
      "metadata": {
        "id": "nutpRC3yOGPt"
      }
    },
    {
      "cell_type": "code",
      "source": [
        "import pathlib\n",
        "\n",
        "def check_file_exists(filename):\n",
        "    file_path = pathlib.Path(filename)\n",
        "    if file_path.exists():\n",
        "        print(f\"File '{filename}' exists.\")\n",
        "        # Attempt to read the file\n",
        "        with open(filename, 'r') as file:\n",
        "            print(file.read())\n",
        "    else:\n",
        "        print(f\"File '{filename}' does not exist.\")\n"
      ],
      "metadata": {
        "id": "JyYif11-OI8s"
      },
      "execution_count": null,
      "outputs": []
    },
    {
      "cell_type": "code",
      "source": [
        "filename = input(\"Enter the filename: \")\n",
        "check_file_exists(filename)\n"
      ],
      "metadata": {
        "id": "hSVecTQnOCs0"
      },
      "execution_count": null,
      "outputs": []
    },
    {
      "cell_type": "markdown",
      "source": [
        "Both of these approaches will allow you to check if a file exists before attempting to read it, which can help prevent errors and make your code more robust."
      ],
      "metadata": {
        "id": "Ur2ITSlxOaq2"
      }
    },
    {
      "cell_type": "markdown",
      "source": [
        "#14. Write a program that uses the logging module to log both informetional and error message."
      ],
      "metadata": {
        "id": "G4thPldhOb8c"
      }
    },
    {
      "cell_type": "markdown",
      "source": [
        "#Ans:- Here's a simple Python program that uses the logging module to log both informational and error messages:\n",
        "\n"
      ],
      "metadata": {
        "id": "M59hqmRQOzLu"
      }
    },
    {
      "cell_type": "code",
      "source": [
        "\n",
        "import logging\n",
        "\n",
        "# Set the logging level to DEBUG\n",
        "logging.basicConfig(level=logging.DEBUG)\n",
        "\n",
        "def divide_numbers(num1, num2):\n",
        "    try:\n",
        "        result = num1 / num2\n",
        "        logging.info(f\"{num1} divided by {num2} is {result}\")\n",
        "    except ZeroDivisionError:\n",
        "        logging.error(\"Error: Division by zero is not allowed.\")\n"
      ],
      "metadata": {
        "id": "3bJ6yb1gOORr"
      },
      "execution_count": null,
      "outputs": []
    },
    {
      "cell_type": "code",
      "source": [
        "# Test the function with different inputs\n",
        "divide_numbers(10, 2)\n",
        "divide_numbers(10, 0)\n"
      ],
      "metadata": {
        "id": "RmvmH5fmO3Cl"
      },
      "execution_count": null,
      "outputs": []
    },
    {
      "cell_type": "markdown",
      "source": [
        "1. We import the logging module, which provides a flexible event logging system.\n",
        "2. We set the logging level to DEBUG using logging.basicConfig(level=logging.DEBUG). This will allow us to see both informational and error messages.\n",
        "3. We define a function divide_numbers() that takes two numbers as input and attempts to divide them.\n",
        "4. We use the logging.info() function to log an informational message when the division is successful.\n",
        "5. We use the logging.error() function to log an error message when a ZeroDivisionError exception occurs.\n",
        "6. We test the function with different inputs to demonstrate how it logs both informational and error messages.\n",
        "\n"
      ],
      "metadata": {
        "id": "sA5f6caTO7_8"
      }
    },
    {
      "cell_type": "markdown",
      "source": [
        "#15. Write a python program taht prints the content of a file and handles the case when the file is empty."
      ],
      "metadata": {
        "id": "LG8B3el4O9CN"
      }
    },
    {
      "cell_type": "markdown",
      "source": [
        "#Ans:- Here's a simple Python program that prints the content of a file and handles the case when the file is empty:\n",
        "\n"
      ],
      "metadata": {
        "id": "Px8f1OK_PaR1"
      }
    },
    {
      "cell_type": "code",
      "source": [
        "def print_file_content(filename):\n",
        "    try:\n",
        "        with open(filename, 'r') as file:\n",
        "            content = file.read()\n",
        "            if content.strip() == \"\":\n",
        "                print(f\"File '{filename}' is empty.\")\n",
        "            else:\n",
        "                print(f\"Content of file '{filename}':\\n{content}\")\n",
        "    except FileNotFoundError:\n",
        "        print(f\"File '{filename}' not found.\")\n",
        "\n"
      ],
      "metadata": {
        "id": "iTz9VXg6O5FE"
      },
      "execution_count": null,
      "outputs": []
    },
    {
      "cell_type": "code",
      "source": [
        "filename = input(\"Enter the filename: \")\n",
        "print_file_content(filename)\n",
        "\n"
      ],
      "metadata": {
        "id": "YgwsBfwbPdk9"
      },
      "execution_count": null,
      "outputs": []
    },
    {
      "cell_type": "markdown",
      "source": [
        "1. We define a function print_file_content() that takes a filename as input.\n",
        "2. We use a try-except block to handle the case when the file is not found.\n",
        "3. We open the file in read mode ('r') using the with statement, which ensures that the file is properly closed after we're done with it.\n",
        "4. We read the content of the file using the read() method and store it in the content variable.\n",
        "5. We check if the content is empty by stripping any whitespace characters using the strip() method and comparing it to an empty string. If the content is empty, we print a message indicating that the file is empty.\n",
        "6. If the content is not empty, we print the content of the file.\n",
        "7. We prompt the user to enter a filename and call the print_file_content() function with the entered filename.\n",
        "\n"
      ],
      "metadata": {
        "id": "Fd23SI9gPjr0"
      }
    },
    {
      "cell_type": "markdown",
      "source": [
        "#16. Demonstrate how to use memory profiling to chack the memory usage of a small program."
      ],
      "metadata": {
        "id": "P7_qPFTpPlBU"
      }
    },
    {
      "cell_type": "markdown",
      "source": [
        "#Ans:- Here's an example of how to use the memory_profiler module to check the memory usage of a small program:\n",
        "\n"
      ],
      "metadata": {
        "id": "YHGogD_PP_jE"
      }
    },
    {
      "cell_type": "code",
      "source": [
        "def my_function():\n",
        "    # Create a large list to consume memory\n",
        "    large_list = [i for i in range(1000000)]\n",
        "    # Perform some operations on the list\n",
        "    result = sum(large_list)\n",
        "    return result"
      ],
      "metadata": {
        "id": "Z-oYqPspQFLV"
      },
      "execution_count": null,
      "outputs": []
    },
    {
      "cell_type": "code",
      "source": [
        "if __name__ == '__main__':\n",
        "    my_function()\n"
      ],
      "metadata": {
        "id": "WmCTZwZ-QqFm"
      },
      "execution_count": null,
      "outputs": []
    },
    {
      "cell_type": "markdown",
      "source": [
        "\n",
        "To run the memory profiler, you can use the following command:\n",
        "\n",
        "bash\n",
        "mprof run python (link unavailable)\n",
        "\n",
        "This will run the program and collect memory usage data. You can then use the following command to view the memory usage data:\n",
        "\n",
        "bash\n",
        "mprof plot\n",
        "\n"
      ],
      "metadata": {
        "id": "k7X8T4TcRd5F"
      }
    },
    {
      "cell_type": "markdown",
      "source": [
        "#17. Write a python program to create and write a list of number to a file, one number per line."
      ],
      "metadata": {
        "id": "PAGl3JuxRfGM"
      }
    },
    {
      "cell_type": "markdown",
      "source": [
        "#Ans:-Here is a simple Python program that creates a list of numbers and writes them to a file, one number per line:\n"
      ],
      "metadata": {
        "id": "_nEKt1mdR7bV"
      }
    },
    {
      "cell_type": "code",
      "source": [
        "def write_numbers_to_file(filename, numbers):\n",
        "    try:\n",
        "        with open(filename, 'w') as file:\n",
        "            for number in numbers:\n",
        "                file.write(str(number) + '\\n')\n",
        "        print(f\"Numbers written to {filename} successfully.\")\n",
        "    except Exception as e:\n",
        "        print(f\"An error occurred: {e}\")"
      ],
      "metadata": {
        "id": "5AwAEynaRVvL"
      },
      "execution_count": null,
      "outputs": []
    },
    {
      "cell_type": "code",
      "source": [
        "# Create a list of numbers\n",
        "numbers = [1, 2, 3, 4, 5, 6, 7, 8, 9, 10]"
      ],
      "metadata": {
        "id": "zWkZ-JJUSICM"
      },
      "execution_count": null,
      "outputs": []
    },
    {
      "cell_type": "code",
      "source": [
        "# Specify the filename\n",
        "filename = 'numbers.txt'"
      ],
      "metadata": {
        "id": "9oeg50-6SKdk"
      },
      "execution_count": null,
      "outputs": []
    },
    {
      "cell_type": "code",
      "source": [
        "# Call the function to write numbers to the file\n",
        "write_numbers_to_file(filename, numbers)"
      ],
      "metadata": {
        "id": "jYZ0Kx3CSNNr"
      },
      "execution_count": null,
      "outputs": []
    },
    {
      "cell_type": "markdown",
      "source": [
        "1. We define a function write_numbers_to_file() that takes a filename and a list of numbers as input.\n",
        "2. We use a try-except block to handle any exceptions that may occur while writing to the file.\n",
        "3. We open the file in write mode ('w') using the with statement, which ensures that the file is properly closed after we're done with it.\n",
        "4. We iterate over the list of numbers and write each number to the file, followed by a newline character (\\n).\n",
        "5. We print a success message to the console after writing all numbers to the file.\n",
        "6. We create a list of numbers and specify the filename.\n",
        "7. We call the write_numbers_to_file() function to write the numbers to the file.\n",
        "\n"
      ],
      "metadata": {
        "id": "nMNX_8yESTju"
      }
    },
    {
      "cell_type": "markdown",
      "source": [
        "#18. How would you implement a besic logging setup that logs to a file ,one number par line."
      ],
      "metadata": {
        "id": "UKP6i1JHSUl8"
      }
    },
    {
      "cell_type": "markdown",
      "source": [
        "#Ans:- Here's a basic logging setup that logs to a file, one number per line:\n"
      ],
      "metadata": {
        "id": "Al6ylnVPS0Rk"
      }
    },
    {
      "cell_type": "code",
      "source": [
        "import logging\n",
        "\n",
        "# Create a logger\n",
        "logger = logging.getLogger('my_logger')\n",
        "logger.setLevel(logging.INFO)"
      ],
      "metadata": {
        "id": "RuxMX4RLSQSr"
      },
      "execution_count": null,
      "outputs": []
    },
    {
      "cell_type": "code",
      "source": [
        "# Create a file handler\n",
        "file_handler = logging.FileHandler('log_file.log')\n",
        "file_handler.setLevel(logging.INFO)"
      ],
      "metadata": {
        "id": "PXspbWRRS73s"
      },
      "execution_count": null,
      "outputs": []
    },
    {
      "cell_type": "code",
      "source": [
        "# Create a formatter\n",
        "formatter = logging.Formatter('%(message)s')\n",
        "file_handler.setFormatter(formatter)"
      ],
      "metadata": {
        "id": "g84kSGL_S-1k"
      },
      "execution_count": null,
      "outputs": []
    },
    {
      "cell_type": "code",
      "source": [
        "# Add the file handler to the logger\n",
        "logger.addHandler(file_handler)"
      ],
      "metadata": {
        "id": "MLrvC8I8TBrD"
      },
      "execution_count": null,
      "outputs": []
    },
    {
      "cell_type": "code",
      "source": [
        "# Log some numbers\n",
        "for i in range(1, 11):\n",
        "    logger.info(str(i))"
      ],
      "metadata": {
        "id": "y9z0H9e8TEEE"
      },
      "execution_count": null,
      "outputs": []
    },
    {
      "cell_type": "markdown",
      "source": [
        "1. We import the logging module.\n",
        "2. We create a logger named 'my_logger' and set its logging level to INFO.\n",
        "3. We create a file handler that logs to a file named log_file.log. We set its logging level to INFO as well.\n",
        "4. We create a formatter that only includes the log message in the output. We set this formatter for the file handler.\n",
        "5. We add the file handler to the logger.\n",
        "6. We log some numbers using the logger.info() method. The numbers are converted to strings before logging.\n"
      ],
      "metadata": {
        "id": "W8apN_8hTKC-"
      }
    },
    {
      "cell_type": "markdown",
      "source": [
        "#19. Write a program that handles both indexerror and keyerror using a try- except block."
      ],
      "metadata": {
        "id": "sRAcBaU1TLEe"
      }
    },
    {
      "cell_type": "markdown",
      "source": [
        "#Ans:- Here is a simple Python program that handles both IndexError and KeyError using a try-except block:\n"
      ],
      "metadata": {
        "id": "BIytoTuITkQc"
      }
    },
    {
      "cell_type": "code",
      "source": [
        "def handle_errors():\n",
        "    my_list = [1, 2, 3]\n",
        "    my_dict = {'a': 1, 'b': 2}\n",
        "\n",
        "    try:\n",
        "        print(my_list[5])  # This will raise an IndexError\n",
        "    except IndexError as e:\n",
        "        print(f\"IndexError: {e}\")\n",
        "\n",
        "    try:\n",
        "        print(my_dict['c'])  # This will raise a KeyError\n",
        "    except KeyError as e:\n",
        "        print(f\"KeyError: {e}\")\n",
        "\n",
        "    try:\n",
        "        print(my_list[5])  # This will raise an IndexError\n",
        "        print(my_dict['c'])  # This will raise a KeyError\n",
        "    except (IndexError, KeyError) as e:\n",
        "        print(f\"Error: {e}\")"
      ],
      "metadata": {
        "id": "ku3DU0Q5TGa0"
      },
      "execution_count": null,
      "outputs": []
    },
    {
      "cell_type": "code",
      "source": [
        "handle_errors()"
      ],
      "metadata": {
        "id": "OCnxr6IsTpNd"
      },
      "execution_count": null,
      "outputs": []
    },
    {
      "cell_type": "markdown",
      "source": [
        "1. We define a function handle_errors() that contains two try-except blocks.\n",
        "2. In the first try-except block, we attempt to access the 6th element of my_list, which will raise an IndexError.\n",
        "3. We catch the IndexError exception and print an error message.\n",
        "4. In the second try-except block, we attempt to access the value associated with the key 'c' in my_dict, which will raise a KeyError.\n",
        "5. We catch the KeyError exception and print an error message.\n",
        "6. In the third try-except block, we attempt to access both the 6th element of my_list and the value associated with the key 'c' in my_dict. We catch both IndexError and KeyError exceptions using a single except block.\n",
        "\n"
      ],
      "metadata": {
        "id": "Yo2VzjO3TvyE"
      }
    },
    {
      "cell_type": "markdown",
      "source": [
        "#20. How would you open a file and read its contents using a context manager in python."
      ],
      "metadata": {
        "id": "o5Pu_2MFTw_1"
      }
    },
    {
      "cell_type": "markdown",
      "source": [
        "#Ans:- Here's how you can open a file and read its contents using a context manager in Python:\n"
      ],
      "metadata": {
        "id": "gjK0UYM5UJLO"
      }
    },
    {
      "cell_type": "code",
      "source": [
        "def read_file_contents(filename):\n",
        "    try:\n",
        "        with open(filename, 'r') as file:\n",
        "            contents = file.read()\n",
        "            print(f\"Contents of {filename}:\\n{contents}\")\n",
        "    except FileNotFoundError:\n",
        "        print(f\"File '{filename}' not found.\")"
      ],
      "metadata": {
        "id": "cjocAQkSTsyU"
      },
      "execution_count": null,
      "outputs": []
    },
    {
      "cell_type": "code",
      "source": [
        "filename = input(\"Enter the filename: \")\n",
        "read_file_contents(filename)"
      ],
      "metadata": {
        "id": "CoxHi5tAUinF"
      },
      "execution_count": null,
      "outputs": []
    },
    {
      "cell_type": "markdown",
      "source": [
        "1. We define a function read_file_contents() that takes a filename as input.\n",
        "2. We use a try-except block to handle the case when the file is not found.\n",
        "3. We open the file in read mode ('r') using the with statement, which is a context manager.\n",
        "4. The with statement automatically closes the file when we're done with it, regardless of whether an exception is thrown or not.\n",
        "5. We read the contents of the file using the read() method and store it in the contents variable.\n",
        "6. We print the contents of the file to the console.\n",
        "7. We prompt the user to enter a filename and call the read_file_contents() function with the entered filename.\n",
        "\n"
      ],
      "metadata": {
        "id": "E3D8cC2RUo6N"
      }
    },
    {
      "cell_type": "markdown",
      "source": [
        "#21. Write a python program that reads a file and print the number of occurrences of a specific word."
      ],
      "metadata": {
        "id": "HAXVAeviUqGM"
      }
    },
    {
      "cell_type": "markdown",
      "source": [
        "#Ans:- Here's a simple Python program that reads a file and prints the number of occurrences of a specific word:\n"
      ],
      "metadata": {
        "id": "vjwc0VlJVT0l"
      }
    },
    {
      "cell_type": "code",
      "source": [
        "def count_word_occurrences(filename, word):\n",
        "    try:\n",
        "        with open(filename, 'r') as file:\n",
        "            text = file.read().lower()\n",
        "            words = text.split()\n",
        "            count = words.count(word.lower())\n",
        "            print(f\"The word '{word}' occurs {count} times in {filename}.\")\n",
        "    except FileNotFoundError:\n",
        "        print(f\"File '{filename}' not found.\")\n"
      ],
      "metadata": {
        "id": "7PoFE9YWUlKk"
      },
      "execution_count": null,
      "outputs": []
    },
    {
      "cell_type": "code",
      "source": [
        "filename = input(\"Enter the filename: \")\n",
        "word = input(\"Enter the word to search for: \")\n",
        "count_word_occurrences(filename, word)"
      ],
      "metadata": {
        "id": "PC7jWsaRVYIF"
      },
      "execution_count": null,
      "outputs": []
    },
    {
      "cell_type": "markdown",
      "source": [
        "1. We define a function count_word_occurrences() that takes a filename and a word as input.\n",
        "2. We use a try-except block to handle the case when the file is not found.\n",
        "3. We open the file in read mode ('r') using the with statement, which is a context manager.\n",
        "4. We read the contents of the file and convert it to lowercase using the lower() method.\n",
        "5. We split the text into words using the split() method.\n",
        "6. We count the occurrences of the specified word using the count() method. We convert the word to lowercase using the lower() method to ensure the search is case-insensitive.\n",
        "7. We print the count of occurrences to the console.\n",
        "8. We prompt the user to enter a filename and a word, and then call the count_word_occurrences() function with the entered values.\n",
        "\n"
      ],
      "metadata": {
        "id": "pZP5tjbMVhU-"
      }
    },
    {
      "cell_type": "markdown",
      "source": [
        "#22. How can you check if a file is empty before attempting to read its contents?"
      ],
      "metadata": {
        "id": "deo5AntOVkbE"
      }
    },
    {
      "cell_type": "markdown",
      "source": [
        "#Ans:- You can check if a file is empty before attempting to read its contents by using the os.path.getsize() function, which returns the size of the file in bytes. If the size is 0, the file is empty. Here's an example:\n"
      ],
      "metadata": {
        "id": "e0CP5FhJV6w9"
      }
    },
    {
      "cell_type": "code",
      "source": [
        "import os\n",
        "\n",
        "def check_file_empty(filename):\n",
        "    try:\n",
        "        if os.path.getsize(filename) == 0:\n",
        "            print(f\"File '{filename}' is empty.\")\n",
        "        else:\n",
        "            print(f\"File '{filename}' is not empty.\")\n",
        "    except FileNotFoundError:\n",
        "        print(f\"File '{filename}' not found.\")"
      ],
      "metadata": {
        "id": "WLERnS4TVbpk"
      },
      "execution_count": null,
      "outputs": []
    },
    {
      "cell_type": "code",
      "source": [
        "filename = input(\"Enter the filename: \")\n",
        "check_file_empty(filename)"
      ],
      "metadata": {
        "id": "SEikIgEvV-7-"
      },
      "execution_count": null,
      "outputs": []
    },
    {
      "cell_type": "markdown",
      "source": [
        "Alternatively, you can use the os.stat() function, which returns a stat_result object that contains information about the file, including its size. Here's an example:\n"
      ],
      "metadata": {
        "id": "lVMEePoiWGDc"
      }
    },
    {
      "cell_type": "code",
      "source": [
        "import os\n",
        "\n",
        "def check_file_empty(filename):\n",
        "    try:\n",
        "        file_stat = os.stat(filename)\n",
        "        if file_stat.st_size == 0:\n",
        "            print(f\"File '{filename}' is empty.\")\n",
        "        else:\n",
        "            print(f\"File '{filename}' is not empty.\")\n",
        "    except FileNotFoundError:\n",
        "        print(f\"File '{filename}' not found.\")"
      ],
      "metadata": {
        "id": "BIKzFK4QWB0r"
      },
      "execution_count": null,
      "outputs": []
    },
    {
      "cell_type": "code",
      "source": [
        "filename = input(\"Enter the filename: \")\n",
        "check_file_empty(filename)"
      ],
      "metadata": {
        "id": "GWh3hG1YWJwU"
      },
      "execution_count": null,
      "outputs": []
    },
    {
      "cell_type": "markdown",
      "source": [
        "\n",
        "Both of these approaches will work, but the os.path.getsize() function is generally more concise and easier to use."
      ],
      "metadata": {
        "id": "XHuERQ_3WPk9"
      }
    },
    {
      "cell_type": "markdown",
      "source": [
        "#23. Write a python program that writes to a log file when an error occurs during file handling."
      ],
      "metadata": {
        "id": "qfVHjDaFWRsU"
      }
    },
    {
      "cell_type": "markdown",
      "source": [
        "#Ans:- Here's a simple Python program that writes to a log file when an error occurs during file handling:\n"
      ],
      "metadata": {
        "id": "iJq9jhQiWsLs"
      }
    },
    {
      "cell_type": "code",
      "source": [
        "import logging\n",
        "\n",
        "# Set up logging\n",
        "logging.basicConfig(filename='error.log', level=logging.ERROR)\n",
        "\n",
        "def handle_file(filename):\n",
        "    try:\n",
        "        with open(filename, 'r') as file:\n",
        "            print(file.read())\n",
        "    except FileNotFoundError:\n",
        "        logging.error(f\"File '{filename}' not found.\")\n",
        "    except PermissionError:\n",
        "        logging.error(f\"Permission denied to access file '{filename}'.\")\n",
        "    except Exception as e:\n",
        "        logging.error(f\"An error occurred: {e}\")"
      ],
      "metadata": {
        "id": "S6XZoBFSWMuD"
      },
      "execution_count": null,
      "outputs": []
    },
    {
      "cell_type": "code",
      "source": [
        "\n",
        "filename = input(\"Enter the filename: \")\n",
        "handle_file(filename)"
      ],
      "metadata": {
        "id": "7_u7xTD1WxEV"
      },
      "execution_count": null,
      "outputs": []
    },
    {
      "cell_type": "markdown",
      "source": [
        "1. We import the logging module, which provides a flexible event logging system.\n",
        "2. We set up logging by calling logging.basicConfig() and specifying the filename error.log and the logging level ERROR.\n",
        "3. We define a function handle_file() that takes a filename as input and attempts to open and read the file.\n",
        "4. We use a try-except block to catch any exceptions that may occur during file handling.\n",
        "5. If a FileNotFoundError occurs, we log an error message indicating that the file was not found.\n",
        "6. If a PermissionError occurs, we log an error message indicating that permission was denied to access the file.\n",
        "7. If any other exception occurs, we log an error message indicating that an error occurred, along with the error message.\n",
        "8. We prompt the user to enter a filename and call the handle_file() function with the entered filename.\n",
        "\n"
      ],
      "metadata": {
        "id": "6QtHkv2AW5NO"
      }
    },
    {
      "cell_type": "code",
      "source": [],
      "metadata": {
        "id": "_Add5pOqW1M7"
      },
      "execution_count": null,
      "outputs": []
    }
  ]
}